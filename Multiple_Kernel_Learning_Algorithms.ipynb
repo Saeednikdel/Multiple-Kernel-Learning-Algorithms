{
  "nbformat": 4,
  "nbformat_minor": 0,
  "metadata": {
    "colab": {
      "provenance": []
    },
    "kernelspec": {
      "name": "python3",
      "display_name": "Python 3"
    },
    "language_info": {
      "name": "python"
    }
  },
  "cells": [
    {
      "cell_type": "markdown",
      "source": [
        "# Multiple Kernel Learning Algorithms"
      ],
      "metadata": {
        "id": "NUsk23ZWkstJ"
      }
    },
    {
      "cell_type": "code",
      "source": [
        "import numpy as np\n",
        "from sklearn.base import BaseEstimator, ClassifierMixin\n",
        "from sklearn.svm import SVC\n",
        "from sklearn.metrics import accuracy_score\n",
        "from sklearn.model_selection import train_test_split\n",
        "from sklearn.preprocessing import StandardScaler\n",
        "from sklearn.datasets import load_breast_cancer\n",
        "import matplotlib.pyplot as plt\n",
        "from sklearn.metrics.pairwise import rbf_kernel, polynomial_kernel, linear_kernel\n",
        "from scipy.optimize import minimize, Bounds\n",
        "import warnings\n",
        "from cvxopt import matrix, solvers\n",
        "import time\n",
        "\n",
        "# Suppress warnings\n",
        "warnings.filterwarnings('ignore')\n",
        "solvers.options['show_progress'] = False"
      ],
      "metadata": {
        "id": "SpAiHnqlfTAS"
      },
      "execution_count": 29,
      "outputs": []
    },
    {
      "cell_type": "markdown",
      "source": [
        "# Helper functions"
      ],
      "metadata": {
        "id": "QYTvSwMsjNXT"
      }
    },
    {
      "cell_type": "code",
      "source": [
        "def center_kernel(K):\n",
        "    \"\"\"Center a kernel matrix K\"\"\"\n",
        "    n = K.shape[0]\n",
        "    one_n = np.ones((n, n)) / n\n",
        "    return K - one_n.dot(K) - K.dot(one_n) + one_n.dot(K).dot(one_n)\n",
        "\n",
        "def kernel_alignment(K1, K2):\n",
        "    \"\"\"Compute alignment between two kernels\"\"\"\n",
        "    return np.sum(K1 * K2) / np.sqrt(np.sum(K1 * K1) * np.sum(K2 * K2))\n",
        "\n",
        "def centered_kernel_alignment(K1, K2):\n",
        "    \"\"\"Compute centered alignment between two kernels\"\"\"\n",
        "    K1_centered = center_kernel(K1)\n",
        "    K2_centered = center_kernel(K2)\n",
        "    return kernel_alignment(K1_centered, K2_centered)"
      ],
      "metadata": {
        "id": "kMZJ0I8nfZ_C"
      },
      "execution_count": 30,
      "outputs": []
    },
    {
      "cell_type": "markdown",
      "source": [
        "# Base Model"
      ],
      "metadata": {
        "id": "E3Gw1lfTjJqU"
      }
    },
    {
      "cell_type": "code",
      "source": [
        "class BaseMKL(BaseEstimator, ClassifierMixin):\n",
        "    \"\"\"Base class for Multiple Kernel Learning algorithms\"\"\"\n",
        "\n",
        "    def __init__(self, C=1.0, kernel_types=None):\n",
        "        self.C = C\n",
        "        self.kernel_types = kernel_types if kernel_types else ['linear', 'rbf', 'poly']\n",
        "        self.kernel_weights = None\n",
        "        self.svm = None\n",
        "        self.combined_kernel_matrix_train = None\n",
        "\n",
        "    def _get_kernel_matrix(self, X, kernel_type, X_train=None):\n",
        "        \"\"\"Compute kernel matrix for a specific kernel type\"\"\"\n",
        "        if kernel_type == 'linear':\n",
        "            return linear_kernel(X) if X_train is None else linear_kernel(X, X_train)\n",
        "        elif kernel_type == 'rbf':\n",
        "            gamma = 1.0 / X.shape[1]\n",
        "            return rbf_kernel(X, gamma=gamma) if X_train is None else rbf_kernel(X, X_train, gamma=gamma)\n",
        "        elif kernel_type == 'poly':\n",
        "            return polynomial_kernel(X, degree=2) if X_train is None else polynomial_kernel(X, X_train, degree=2)\n",
        "        else:\n",
        "            raise ValueError(f\"Unknown kernel type: {kernel_type}\")\n",
        "\n",
        "    def _get_kernel_matrices(self, X, X_train=None):\n",
        "        \"\"\"Compute all kernel matrices for all kernel types\"\"\"\n",
        "        kernel_matrices = []\n",
        "        for kernel_type in self.kernel_types:\n",
        "            kernel_matrices.append(self._get_kernel_matrix(X, kernel_type, X_train))\n",
        "        return kernel_matrices\n",
        "\n",
        "    def _combine_kernels(self, kernel_matrices):\n",
        "        \"\"\"Combine kernels using kernel weights\"\"\"\n",
        "        if self.kernel_weights is None:\n",
        "            # Default to equal weights if not set\n",
        "            self.kernel_weights = np.ones(len(kernel_matrices)) / len(kernel_matrices)\n",
        "\n",
        "        combined_kernel = np.zeros_like(kernel_matrices[0])\n",
        "        for i, kernel in enumerate(kernel_matrices):\n",
        "            combined_kernel += self.kernel_weights[i] * kernel\n",
        "\n",
        "        return combined_kernel\n",
        "\n",
        "    def _precomputed_kernel(self, X, Y=None):\n",
        "        \"\"\"Return the precomputed kernel matrix\"\"\"\n",
        "        if Y is not None:\n",
        "            # For prediction phase\n",
        "            kernel_matrices = self._get_kernel_matrices(Y, X)\n",
        "            return self._combine_kernels(kernel_matrices)\n",
        "        else:\n",
        "            # For training phase\n",
        "            return self.combined_kernel_matrix_train\n",
        "\n",
        "    def fit(self, X, y):\n",
        "        \"\"\"Fit the MKL model\"\"\"\n",
        "        # Store training data for future predictions\n",
        "        self.X_train = X\n",
        "\n",
        "        # Compute kernel matrices for training data\n",
        "        kernel_matrices = self._get_kernel_matrices(X)\n",
        "\n",
        "        # Set kernel weights (to be implemented by subclasses)\n",
        "        self._set_kernel_weights(kernel_matrices, y)\n",
        "\n",
        "        # Combine kernels\n",
        "        self.combined_kernel_matrix_train = self._combine_kernels(kernel_matrices)\n",
        "\n",
        "        # Train SVM with combined kernel\n",
        "        self.svm = SVC(C=self.C, kernel='precomputed')\n",
        "        self.svm.fit(self.combined_kernel_matrix_train, y)\n",
        "\n",
        "        return self\n",
        "\n",
        "    def predict(self, X):\n",
        "        \"\"\"Predict classes for samples in X\"\"\"\n",
        "        # Compute kernel between test and training data\n",
        "        K_test = self._precomputed_kernel(self.X_train, X)\n",
        "\n",
        "        # Use SVM to predict with the combined kernel\n",
        "        return self.svm.predict(K_test)\n",
        "\n",
        "    def _set_kernel_weights(self, kernel_matrices, y):\n",
        "        \"\"\"Set kernel weights (to be implemented by subclasses)\"\"\"\n",
        "        raise NotImplementedError(\"Subclasses must implement this method\")"
      ],
      "metadata": {
        "id": "2A6hx-CLfgsz"
      },
      "execution_count": 31,
      "outputs": []
    },
    {
      "cell_type": "markdown",
      "source": [
        "# 1. Single-Kernel SVM (Best)\n"
      ],
      "metadata": {
        "id": "ABBDyzMEjShP"
      }
    },
    {
      "cell_type": "code",
      "source": [
        "class SVMBest(BaseMKL):\n",
        "    def __init__(self, C=1.0, kernel_types=None):\n",
        "        super().__init__(C, kernel_types)\n",
        "\n",
        "    def _set_kernel_weights(self, kernel_matrices, y):\n",
        "        # Evaluate each kernel separately\n",
        "        best_acc = -1\n",
        "        best_kernel_idx = 0\n",
        "\n",
        "        # Create a small validation split indices instead of using dummy features\n",
        "        n_samples = len(y)\n",
        "        indices = np.arange(n_samples)\n",
        "        train_idx, val_idx = train_test_split(indices, test_size=0.2, random_state=42)\n",
        "\n",
        "        for i, kernel in enumerate(kernel_matrices):\n",
        "            # Use only training indices for this kernel\n",
        "            K_train = kernel[np.ix_(train_idx, train_idx)]\n",
        "            K_val = kernel[np.ix_(val_idx, train_idx)]\n",
        "\n",
        "            # Train and evaluate SVM with this kernel\n",
        "            svm = SVC(C=self.C, kernel='precomputed')\n",
        "            svm.fit(K_train, y[train_idx])\n",
        "            preds = svm.predict(K_val)\n",
        "            acc = accuracy_score(y[val_idx], preds)\n",
        "\n",
        "            if acc > best_acc:\n",
        "                best_acc = acc\n",
        "                best_kernel_idx = i\n",
        "\n",
        "        # Set weight to 1 for the best kernel, 0 for others\n",
        "        self.kernel_weights = np.zeros(len(kernel_matrices))\n",
        "        self.kernel_weights[best_kernel_idx] = 1.0"
      ],
      "metadata": {
        "id": "h6abEAX5fnOh"
      },
      "execution_count": 32,
      "outputs": []
    },
    {
      "cell_type": "markdown",
      "source": [
        "# 2. Single-Kernel SVM (All)\n"
      ],
      "metadata": {
        "id": "SoQeQAH7jU5V"
      }
    },
    {
      "cell_type": "code",
      "source": [
        "class SVMAll(BaseMKL):\n",
        "    def __init__(self, C=1.0, kernel_types=None):\n",
        "        super().__init__(C, kernel_types)\n",
        "\n",
        "    def _set_kernel_weights(self, kernel_matrices, y):\n",
        "        # Use equal weights for all kernels\n",
        "        self.kernel_weights = np.ones(len(kernel_matrices)) / len(kernel_matrices)"
      ],
      "metadata": {
        "id": "t7qRyI0sfrhc"
      },
      "execution_count": 33,
      "outputs": []
    },
    {
      "cell_type": "markdown",
      "source": [
        "# 3. RBMKL (Mean)\n"
      ],
      "metadata": {
        "id": "THWpsmMfjWys"
      }
    },
    {
      "cell_type": "code",
      "source": [
        "class RBMKLMean(BaseMKL):\n",
        "    def __init__(self, C=1.0, kernel_types=None):\n",
        "        super().__init__(C, kernel_types)\n",
        "\n",
        "    def _set_kernel_weights(self, kernel_matrices, y):\n",
        "        # Use equal weights for all kernels (unweighted mean)\n",
        "        self.kernel_weights = np.ones(len(kernel_matrices)) / len(kernel_matrices)"
      ],
      "metadata": {
        "id": "p_s2eTtFftgT"
      },
      "execution_count": 34,
      "outputs": []
    },
    {
      "cell_type": "markdown",
      "source": [
        "# 4. RBMKL (Product)\n"
      ],
      "metadata": {
        "id": "GuimZNZJjYiq"
      }
    },
    {
      "cell_type": "code",
      "source": [
        "class RBMKLProduct(BaseMKL):\n",
        "    def __init__(self, C=1.0, kernel_types=None):\n",
        "        super().__init__(C, kernel_types)\n",
        "\n",
        "    def _combine_kernels(self, kernel_matrices):\n",
        "        \"\"\"Combine kernels using product instead of sum\"\"\"\n",
        "        combined_kernel = np.ones_like(kernel_matrices[0])\n",
        "        for kernel in kernel_matrices:\n",
        "            # Element-wise product\n",
        "            combined_kernel *= kernel\n",
        "\n",
        "        # Normalize to avoid numerical issues\n",
        "        if np.max(combined_kernel) > 0:\n",
        "            combined_kernel /= np.max(combined_kernel)\n",
        "\n",
        "        return combined_kernel\n",
        "\n",
        "    def _set_kernel_weights(self, kernel_matrices, y):\n",
        "        # Not used for product kernel, but implemented for consistency\n",
        "        self.kernel_weights = np.ones(len(kernel_matrices))"
      ],
      "metadata": {
        "id": "M6Dw9awNfwKZ"
      },
      "execution_count": 35,
      "outputs": []
    },
    {
      "cell_type": "markdown",
      "source": [
        "# 5. ABMKL (Ratio)\n"
      ],
      "metadata": {
        "id": "31Ruj5RBjaYe"
      }
    },
    {
      "cell_type": "code",
      "source": [
        "class ABMKLRatio(BaseMKL):\n",
        "    def __init__(self, C=1.0, kernel_types=None):\n",
        "        super().__init__(C, kernel_types)\n",
        "\n",
        "    def _set_kernel_weights(self, kernel_matrices, y):\n",
        "        n_kernels = len(kernel_matrices)\n",
        "        self.kernel_weights = np.zeros(n_kernels)\n",
        "\n",
        "        # Create target kernel from labels (outer product of labels)\n",
        "        y_matrix = np.outer(y, y)\n",
        "\n",
        "        # Compute alignment between each kernel and target\n",
        "        for i in range(n_kernels):\n",
        "            self.kernel_weights[i] = kernel_alignment(kernel_matrices[i], y_matrix)\n",
        "\n",
        "        # Normalize weights to sum to 1\n",
        "        if np.sum(self.kernel_weights) > 0:\n",
        "            self.kernel_weights /= np.sum(self.kernel_weights)"
      ],
      "metadata": {
        "id": "H96rVgqZfy3g"
      },
      "execution_count": 36,
      "outputs": []
    },
    {
      "cell_type": "markdown",
      "source": [
        "# 6. ABMKL (Conic)\n"
      ],
      "metadata": {
        "id": "8EMjCIG2jcNV"
      }
    },
    {
      "cell_type": "code",
      "source": [
        "class ABMKLConic(BaseMKL):\n",
        "    def __init__(self, C=1.0, kernel_types=None):\n",
        "        super().__init__(C, kernel_types)\n",
        "\n",
        "    def _set_kernel_weights(self, kernel_matrices, y):\n",
        "        n_kernels = len(kernel_matrices)\n",
        "\n",
        "        # Create target kernel from labels\n",
        "        y_matrix = np.outer(y, y)\n",
        "\n",
        "        # Set up the QCQP problem for kernel alignment\n",
        "        # Initialize matrices for the optimization problem\n",
        "        Q = np.zeros((n_kernels, n_kernels))\n",
        "        p = np.zeros(n_kernels)\n",
        "\n",
        "        # Fill Q (quadratic term)\n",
        "        for i in range(n_kernels):\n",
        "            for j in range(n_kernels):\n",
        "                K_i = kernel_matrices[i]\n",
        "                K_j = kernel_matrices[j]\n",
        "                Q[i, j] = np.sum(K_i * K_j)\n",
        "\n",
        "        # Fill p (linear term)\n",
        "        for i in range(n_kernels):\n",
        "            K_i = kernel_matrices[i]\n",
        "            p[i] = -2 * np.sum(K_i * y_matrix)\n",
        "\n",
        "        # Use cvxopt to solve the QCQP problem\n",
        "        P = matrix(Q, tc='d')\n",
        "        q = matrix(p, tc='d')\n",
        "        G = matrix(-np.eye(n_kernels), tc='d')  # βᵢ ≥ 0\n",
        "        h = matrix(np.zeros(n_kernels), tc='d')\n",
        "\n",
        "        try:\n",
        "            sol = solvers.qp(P, q, G, h)\n",
        "            self.kernel_weights = np.array(sol['x']).flatten()\n",
        "\n",
        "            # Normalize weights to sum to 1\n",
        "            if np.sum(self.kernel_weights) > 0:\n",
        "                self.kernel_weights /= np.sum(self.kernel_weights)\n",
        "        except:\n",
        "            # Fallback to equal weights if optimization fails\n",
        "            self.kernel_weights = np.ones(n_kernels) / n_kernels"
      ],
      "metadata": {
        "id": "AxoBw_mZf3aj"
      },
      "execution_count": 37,
      "outputs": []
    },
    {
      "cell_type": "markdown",
      "source": [
        "# 7. ABMKL (Convex)\n"
      ],
      "metadata": {
        "id": "FiZtn-U5je_b"
      }
    },
    {
      "cell_type": "code",
      "source": [
        "class ABMKLConvex(BaseMKL):\n",
        "    def __init__(self, C=1.0, kernel_types=None):\n",
        "        super().__init__(C, kernel_types)\n",
        "\n",
        "    def _set_kernel_weights(self, kernel_matrices, y):\n",
        "        n_kernels = len(kernel_matrices)\n",
        "\n",
        "        # Create target kernel from labels\n",
        "        y_matrix = np.outer(y, y)\n",
        "\n",
        "        # Set up the QP problem for kernel alignment with simplex constraint\n",
        "        # Initialize matrices for the optimization problem\n",
        "        Q = np.zeros((n_kernels, n_kernels))\n",
        "        p = np.zeros(n_kernels)\n",
        "\n",
        "        # Fill Q (quadratic term)\n",
        "        for i in range(n_kernels):\n",
        "            for j in range(n_kernels):\n",
        "                K_i = kernel_matrices[i]\n",
        "                K_j = kernel_matrices[j]\n",
        "                Q[i, j] = np.sum(K_i * K_j)\n",
        "\n",
        "        # Fill p (linear term)\n",
        "        for i in range(n_kernels):\n",
        "            K_i = kernel_matrices[i]\n",
        "            p[i] = -2 * np.sum(K_i * y_matrix)\n",
        "\n",
        "        # Use cvxopt to solve the QP problem\n",
        "        P = matrix(Q, tc='d')\n",
        "        q = matrix(p, tc='d')\n",
        "        G = matrix(-np.eye(n_kernels), tc='d')  # βᵢ ≥ 0\n",
        "        h = matrix(np.zeros(n_kernels), tc='d')\n",
        "        A = matrix(np.ones((1, n_kernels)), tc='d')  # Σβᵢ = 1\n",
        "        b = matrix(np.ones(1), tc='d')\n",
        "\n",
        "        try:\n",
        "            sol = solvers.qp(P, q, G, h, A, b)\n",
        "            self.kernel_weights = np.array(sol['x']).flatten()\n",
        "        except:\n",
        "            # Fallback to equal weights if optimization fails\n",
        "            self.kernel_weights = np.ones(n_kernels) / n_kernels"
      ],
      "metadata": {
        "id": "Bko87NfXf70I"
      },
      "execution_count": 38,
      "outputs": []
    },
    {
      "cell_type": "markdown",
      "source": [
        "# 8. CABMKL (Linear)\n"
      ],
      "metadata": {
        "id": "wPo-JMiwjiNh"
      }
    },
    {
      "cell_type": "code",
      "source": [
        "class CABMKLLinear(BaseMKL):\n",
        "    def __init__(self, C=1.0, kernel_types=None):\n",
        "        super().__init__(C, kernel_types)\n",
        "\n",
        "    def _set_kernel_weights(self, kernel_matrices, y):\n",
        "        n_kernels = len(kernel_matrices)\n",
        "        self.kernel_weights = np.zeros(n_kernels)\n",
        "\n",
        "        # Create target kernel from labels\n",
        "        y_matrix = np.outer(y, y)\n",
        "        y_centered = center_kernel(y_matrix)\n",
        "\n",
        "        # Compute centered kernel for each base kernel\n",
        "        centered_kernels = [center_kernel(K) for K in kernel_matrices]\n",
        "\n",
        "        # Compute weights analytically using centered alignment\n",
        "        for i in range(n_kernels):\n",
        "            self.kernel_weights[i] = centered_kernel_alignment(kernel_matrices[i], y_matrix)\n",
        "\n",
        "        # Normalize weights\n",
        "        if np.sum(np.abs(self.kernel_weights)) > 0:\n",
        "            self.kernel_weights /= np.sum(np.abs(self.kernel_weights))"
      ],
      "metadata": {
        "id": "I_WUIzkjf-_u"
      },
      "execution_count": 39,
      "outputs": []
    },
    {
      "cell_type": "markdown",
      "source": [
        "# 9. CABMKL (Conic)\n"
      ],
      "metadata": {
        "id": "CCHgtKjBjkP4"
      }
    },
    {
      "cell_type": "code",
      "source": [
        "class CABMKLConic(BaseMKL):\n",
        "    def __init__(self, C=1.0, kernel_types=None):\n",
        "        super().__init__(C, kernel_types)\n",
        "\n",
        "    def _set_kernel_weights(self, kernel_matrices, y):\n",
        "        n_kernels = len(kernel_matrices)\n",
        "\n",
        "        # Create target kernel from labels\n",
        "        y_matrix = np.outer(y, y)\n",
        "        y_centered = center_kernel(y_matrix)\n",
        "\n",
        "        # Compute centered kernel for each base kernel\n",
        "        centered_kernels = [center_kernel(K) for K in kernel_matrices]\n",
        "\n",
        "        # Set up the QP problem for centered kernel alignment\n",
        "        # Initialize matrices for the optimization problem\n",
        "        Q = np.zeros((n_kernels, n_kernels))\n",
        "        p = np.zeros(n_kernels)\n",
        "\n",
        "        # Fill Q (quadratic term)\n",
        "        for i in range(n_kernels):\n",
        "            for j in range(n_kernels):\n",
        "                K_i = centered_kernels[i]\n",
        "                K_j = centered_kernels[j]\n",
        "                Q[i, j] = np.sum(K_i * K_j)\n",
        "\n",
        "        # Fill p (linear term)\n",
        "        for i in range(n_kernels):\n",
        "            K_i = centered_kernels[i]\n",
        "            p[i] = -2 * np.sum(K_i * y_centered)\n",
        "\n",
        "        # Use cvxopt to solve the QP problem\n",
        "        P = matrix(Q, tc='d')\n",
        "        q = matrix(p, tc='d')\n",
        "        G = matrix(-np.eye(n_kernels), tc='d')  # βᵢ ≥ 0\n",
        "        h = matrix(np.zeros(n_kernels), tc='d')\n",
        "\n",
        "        try:\n",
        "            sol = solvers.qp(P, q, G, h)\n",
        "            self.kernel_weights = np.array(sol['x']).flatten()\n",
        "\n",
        "            # Normalize weights to sum to 1\n",
        "            if np.sum(self.kernel_weights) > 0:\n",
        "                self.kernel_weights /= np.sum(self.kernel_weights)\n",
        "        except:\n",
        "            # Fallback to equal weights if optimization fails\n",
        "            self.kernel_weights = np.ones(n_kernels) / n_kernels"
      ],
      "metadata": {
        "id": "_5VR68S7gDW7"
      },
      "execution_count": 40,
      "outputs": []
    },
    {
      "cell_type": "markdown",
      "source": [
        "# 10. MKL (Bach et al.)\n"
      ],
      "metadata": {
        "id": "IJ1TXYnGjmm8"
      }
    },
    {
      "cell_type": "code",
      "source": [
        "class MKL(BaseMKL):\n",
        "    def __init__(self, C=1.0, kernel_types=None, max_iter=10):\n",
        "        super().__init__(C, kernel_types)\n",
        "        self.max_iter = max_iter\n",
        "\n",
        "    def _set_kernel_weights(self, kernel_matrices, y):\n",
        "        n_kernels = len(kernel_matrices)\n",
        "        n_samples = kernel_matrices[0].shape[0]\n",
        "\n",
        "        # Initialize with uniform weights\n",
        "        self.kernel_weights = np.ones(n_kernels) / n_kernels\n",
        "\n",
        "        # Alternate between SVM learning and weight updates\n",
        "        for _ in range(self.max_iter):\n",
        "            # 1. Train SVM with current weights\n",
        "            K_combined = self._combine_kernels(kernel_matrices)\n",
        "            svm = SVC(C=self.C, kernel='precomputed')\n",
        "            svm.fit(K_combined, y)\n",
        "\n",
        "            # 2. Compute SVM dual variables\n",
        "            sv_indices = svm.support_\n",
        "            dual_coef = np.zeros(n_samples)\n",
        "            dual_coef[sv_indices] = np.abs(svm.dual_coef_[0])\n",
        "\n",
        "            # 3. Update kernel weights based on SVM objective\n",
        "            objective_values = np.zeros(n_kernels)\n",
        "\n",
        "            for i in range(n_kernels):\n",
        "                K = kernel_matrices[i]\n",
        "                # Compute SVM objective for this kernel\n",
        "                obj = 0\n",
        "                for a in range(n_samples):\n",
        "                    for b in range(n_samples):\n",
        "                        obj += dual_coef[a] * dual_coef[b] * y[a] * y[b] * K[a, b]\n",
        "                objective_values[i] = obj\n",
        "\n",
        "            # Set weights proportional to objective values\n",
        "            if np.sum(objective_values) > 0:\n",
        "                self.kernel_weights = objective_values / np.sum(objective_values)\n",
        "            else:\n",
        "                # Fallback to equal weights\n",
        "                self.kernel_weights = np.ones(n_kernels) / n_kernels"
      ],
      "metadata": {
        "id": "vrzwfHC9gHuY"
      },
      "execution_count": 41,
      "outputs": []
    },
    {
      "cell_type": "markdown",
      "source": [
        "# 11. SimpleMKL\n"
      ],
      "metadata": {
        "id": "vDU1BG-Wjosw"
      }
    },
    {
      "cell_type": "code",
      "source": [
        "class SimpleMKL(BaseMKL):\n",
        "    def __init__(self, C=1.0, kernel_types=None, max_iter=10, tol=1e-4):\n",
        "        super().__init__(C, kernel_types)\n",
        "        self.max_iter = max_iter\n",
        "        self.tol = tol\n",
        "\n",
        "    def _set_kernel_weights(self, kernel_matrices, y):\n",
        "        n_kernels = len(kernel_matrices)\n",
        "        n_samples = kernel_matrices[0].shape[0]\n",
        "\n",
        "        # Initialize with uniform weights\n",
        "        self.kernel_weights = np.ones(n_kernels) / n_kernels\n",
        "\n",
        "        prev_obj = float('inf')\n",
        "\n",
        "        # Alternate between SVM learning and weight updates\n",
        "        for _ in range(self.max_iter):\n",
        "            # 1. Train SVM with current weights\n",
        "            K_combined = self._combine_kernels(kernel_matrices)\n",
        "            svm = SVC(C=self.C, kernel='precomputed')\n",
        "            svm.fit(K_combined, y)\n",
        "\n",
        "            # 2. Compute gradients with respect to kernel weights\n",
        "            gradients = np.zeros(n_kernels)\n",
        "            sv_indices = svm.support_\n",
        "            alphas = np.zeros(n_samples)\n",
        "            alphas[sv_indices] = np.abs(svm.dual_coef_[0])\n",
        "\n",
        "            for m in range(n_kernels):\n",
        "                grad = 0\n",
        "                for i in sv_indices:\n",
        "                    for j in sv_indices:\n",
        "                        grad -= 0.5 * alphas[i] * alphas[j] * y[i] * y[j] * kernel_matrices[m][i, j]\n",
        "                gradients[m] = grad\n",
        "\n",
        "            # 3. Compute current objective\n",
        "            obj = 0\n",
        "            for i in sv_indices:\n",
        "                obj += alphas[i]\n",
        "                for j in sv_indices:\n",
        "                    obj -= 0.5 * alphas[i] * alphas[j] * y[i] * y[j] * K_combined[i, j]\n",
        "\n",
        "            # Check convergence\n",
        "            if abs(prev_obj - obj) < self.tol:\n",
        "                break\n",
        "            prev_obj = obj\n",
        "\n",
        "            # 4. Projected gradient descent update\n",
        "            step_size = 0.01  # Small step size for stability\n",
        "            new_weights = self.kernel_weights - step_size * gradients\n",
        "\n",
        "            # Project back to simplex\n",
        "            new_weights = np.maximum(0, new_weights)  # Non-negativity constraint\n",
        "            if np.sum(new_weights) > 0:\n",
        "                new_weights /= np.sum(new_weights)  # Sum to 1 constraint\n",
        "            else:\n",
        "                new_weights = np.ones(n_kernels) / n_kernels\n",
        "\n",
        "            self.kernel_weights = new_weights"
      ],
      "metadata": {
        "id": "DbN4Z12_gM2z"
      },
      "execution_count": 42,
      "outputs": []
    },
    {
      "cell_type": "markdown",
      "source": [
        "# 12. GMKL (Generalized MKL)\n"
      ],
      "metadata": {
        "id": "rQht059fjqyG"
      }
    },
    {
      "cell_type": "code",
      "source": [
        "class GMKL(BaseMKL):\n",
        "    def __init__(self, C=1.0, kernel_types=None, max_iter=10, sigma=1.0):\n",
        "        super().__init__(C, kernel_types)\n",
        "        self.max_iter = max_iter\n",
        "        self.sigma = sigma  # Regularization parameter\n",
        "\n",
        "    def _set_kernel_weights(self, kernel_matrices, y):\n",
        "        n_kernels = len(kernel_matrices)\n",
        "        n_samples = kernel_matrices[0].shape[0]\n",
        "\n",
        "        # Initialize with uniform weights\n",
        "        self.kernel_weights = np.ones(n_kernels) / n_kernels\n",
        "\n",
        "        # Alternate between SVM learning and weight updates\n",
        "        for _ in range(self.max_iter):\n",
        "            # 1. Train SVM with current weights\n",
        "            K_combined = self._combine_kernels(kernel_matrices)\n",
        "            svm = SVC(C=self.C, kernel='precomputed')\n",
        "            try:\n",
        "                svm.fit(K_combined, y)\n",
        "            except:\n",
        "                # If SVM fails to converge, keep current weights\n",
        "                continue\n",
        "\n",
        "            # 2. Compute gradients with respect to kernel weights\n",
        "            gradients = np.zeros(n_kernels)\n",
        "            sv_indices = svm.support_\n",
        "            alphas = np.zeros(n_samples)\n",
        "            alphas[sv_indices] = np.abs(svm.dual_coef_[0])\n",
        "\n",
        "            for m in range(n_kernels):\n",
        "                grad = 0\n",
        "                for i in sv_indices:\n",
        "                    for j in sv_indices:\n",
        "                        grad -= 0.5 * alphas[i] * alphas[j] * y[i] * y[j] * kernel_matrices[m][i, j]\n",
        "\n",
        "                # Add regularization gradient (using L2 regularization)\n",
        "                grad += self.sigma * self.kernel_weights[m]\n",
        "                gradients[m] = grad\n",
        "\n",
        "            # 3. Gradient descent update with regularization\n",
        "            step_size = 0.01  # Small step size for stability\n",
        "            new_weights = self.kernel_weights - step_size * gradients\n",
        "\n",
        "            # Project back to simplex\n",
        "            new_weights = np.maximum(0, new_weights)  # Non-negativity constraint\n",
        "            if np.sum(new_weights) > 0:\n",
        "                new_weights /= np.sum(new_weights)  # Sum to 1 constraint\n",
        "            else:\n",
        "                new_weights = np.ones(n_kernels) / n_kernels\n",
        "\n",
        "            self.kernel_weights = new_weights"
      ],
      "metadata": {
        "id": "JtTZ7hxAgQyo"
      },
      "execution_count": 43,
      "outputs": []
    },
    {
      "cell_type": "markdown",
      "source": [
        "# 13. GLMKL (p=1)\n"
      ],
      "metadata": {
        "id": "uUkzSWbrjs4O"
      }
    },
    {
      "cell_type": "code",
      "source": [
        "class GLMKLP1(BaseMKL):\n",
        "    def __init__(self, C=1.0, kernel_types=None, max_iter=10, lam=0.1):\n",
        "        super().__init__(C, kernel_types)\n",
        "        self.max_iter = max_iter\n",
        "        self.lam = lam  # L1 regularization parameter\n",
        "\n",
        "    def _set_kernel_weights(self, kernel_matrices, y):\n",
        "        n_kernels = len(kernel_matrices)\n",
        "\n",
        "        # Set up the optimization problem\n",
        "        def objective(weights):\n",
        "            # Create combined kernel\n",
        "            K_combined = np.zeros_like(kernel_matrices[0])\n",
        "            for i, K in enumerate(kernel_matrices):\n",
        "                K_combined += weights[i] * K\n",
        "\n",
        "            # Train SVM and get objective\n",
        "            try:\n",
        "                svm = SVC(C=self.C, kernel='precomputed')\n",
        "                svm.fit(K_combined, y)\n",
        "                sv_indices = svm.support_\n",
        "                dual_coef = np.abs(svm.dual_coef_[0])\n",
        "\n",
        "                # Compute SVM objective\n",
        "                obj = np.sum(dual_coef)\n",
        "                for i, idx_i in enumerate(sv_indices):\n",
        "                    for j, idx_j in enumerate(sv_indices):\n",
        "                        obj -= 0.5 * dual_coef[i] * dual_coef[j] * y[idx_i] * y[idx_j] * K_combined[idx_i, idx_j]\n",
        "\n",
        "                # Add L1 regularization\n",
        "                obj += self.lam * np.sum(np.abs(weights))\n",
        "                return -obj  # Minimize negative objective\n",
        "            except:\n",
        "                return float('inf')\n",
        "\n",
        "        # Constraints: weights sum to 1 and are non-negative\n",
        "        constraints = [{'type': 'eq', 'fun': lambda w: np.sum(w) - 1}]\n",
        "        bounds = Bounds(np.zeros(n_kernels), np.ones(n_kernels))\n",
        "\n",
        "        # Initial weights\n",
        "        initial_weights = np.ones(n_kernels) / n_kernels\n",
        "\n",
        "        # Solve the optimization problem\n",
        "        try:\n",
        "            res = minimize(objective, initial_weights, method='SLSQP',\n",
        "                          constraints=constraints, bounds=bounds,\n",
        "                          options={'maxiter': 100, 'disp': False})\n",
        "            self.kernel_weights = res.x\n",
        "        except:\n",
        "            # Fallback to equal weights\n",
        "            self.kernel_weights = np.ones(n_kernels) / n_kernels"
      ],
      "metadata": {
        "id": "MmJEtjergUPd"
      },
      "execution_count": 44,
      "outputs": []
    },
    {
      "cell_type": "markdown",
      "source": [
        "# 14. GLMKL (p=2)\n"
      ],
      "metadata": {
        "id": "q06MMW4MjvCW"
      }
    },
    {
      "cell_type": "code",
      "source": [
        "class GLMKLP2(BaseMKL):\n",
        "    def __init__(self, C=1.0, kernel_types=None, max_iter=10, lam=0.1):\n",
        "        super().__init__(C, kernel_types)\n",
        "        self.max_iter = max_iter\n",
        "        self.lam = lam  # L2 regularization parameter\n",
        "\n",
        "    def _set_kernel_weights(self, kernel_matrices, y):\n",
        "        n_kernels = len(kernel_matrices)\n",
        "\n",
        "        # Set up the optimization problem\n",
        "        def objective(weights):\n",
        "            # Create combined kernel\n",
        "            K_combined = np.zeros_like(kernel_matrices[0])\n",
        "            for i, K in enumerate(kernel_matrices):\n",
        "                K_combined += weights[i] * K\n",
        "\n",
        "            # Train SVM and get objective\n",
        "            try:\n",
        "                svm = SVC(C=self.C, kernel='precomputed')\n",
        "                svm.fit(K_combined, y)\n",
        "                sv_indices = svm.support_\n",
        "                dual_coef = np.abs(svm.dual_coef_[0])\n",
        "\n",
        "                # Compute SVM objective\n",
        "                obj = np.sum(dual_coef)\n",
        "                for i, idx_i in enumerate(sv_indices):\n",
        "                    for j, idx_j in enumerate(sv_indices):\n",
        "                        obj -= 0.5 * dual_coef[i] * dual_coef[j] * y[idx_i] * y[idx_j] * K_combined[idx_i, idx_j]\n",
        "\n",
        "                # Add L2 regularization\n",
        "                obj += self.lam * np.sum(weights**2)\n",
        "                return -obj  # Minimize negative objective\n",
        "            except:\n",
        "                return float('inf')\n",
        "\n",
        "        # Constraints: weights are non-negative (no sum to 1 constraint for L2)\n",
        "        bounds = Bounds(np.zeros(n_kernels), np.ones(n_kernels) * float('inf'))\n",
        "\n",
        "        # Initial weights\n",
        "        initial_weights = np.ones(n_kernels) / n_kernels\n",
        "\n",
        "        # Solve the optimization problem\n",
        "        try:\n",
        "            res = minimize(objective, initial_weights, method='L-BFGS-B',\n",
        "                          bounds=bounds, options={'maxiter': 100, 'disp': False})\n",
        "            self.kernel_weights = res.x\n",
        "\n",
        "            # Normalize weights to sum to 1 for consistency\n",
        "            if np.sum(self.kernel_weights) > 0:\n",
        "                self.kernel_weights /= np.sum(self.kernel_weights)\n",
        "        except:\n",
        "            # Fallback to equal weights\n",
        "            self.kernel_weights = np.ones(n_kernels) / n_kernels"
      ],
      "metadata": {
        "id": "Wyfq9zHFgX9w"
      },
      "execution_count": 45,
      "outputs": []
    },
    {
      "cell_type": "markdown",
      "source": [
        "# 15. NLMKL (p=1)"
      ],
      "metadata": {
        "id": "TiAdxxhBjxJq"
      }
    },
    {
      "cell_type": "code",
      "source": [
        "class NLMKLP1(BaseMKL):\n",
        "    def __init__(self, C=1.0, kernel_types=None, max_iter=10, degree=2):\n",
        "        super().__init__(C, kernel_types)\n",
        "        self.max_iter = max_iter\n",
        "        self.degree = degree  # Degree of polynomial combination\n",
        "\n",
        "    def _combine_kernels(self, kernel_matrices):\n",
        "        \"\"\"Polynomial combination of kernels\"\"\"\n",
        "        # First, combine linearly using weights\n",
        "        linear_combination = np.zeros_like(kernel_matrices[0])\n",
        "        for i, kernel in enumerate(kernel_matrices):\n",
        "            linear_combination += self.kernel_weights[i] * kernel\n",
        "\n",
        "        # Then, raise to power (polynomial combination)\n",
        "        return linear_combination ** self.degree\n",
        "\n",
        "    def _set_kernel_weights(self, kernel_matrices, y):\n",
        "        n_kernels = len(kernel_matrices)\n",
        "\n",
        "        # Use simple optimization for kernel weights with L1 constraint\n",
        "        def objective(weights):\n",
        "            self.kernel_weights = weights\n",
        "            K_combined = self._combine_kernels(kernel_matrices)\n",
        "\n",
        "            try:\n",
        "                svm = SVC(C=self.C, kernel='precomputed')\n",
        "                svm.fit(K_combined, y)\n",
        "                y_pred = svm.predict(K_combined)\n",
        "                return -accuracy_score(y, y_pred)  # Maximize accuracy\n",
        "            except:\n",
        "                return float('inf')\n",
        "\n",
        "        # Constraints: weights sum to 1 and are non-negative\n",
        "        constraints = [{'type': 'eq', 'fun': lambda w: np.sum(w) - 1}]\n",
        "        bounds = Bounds(np.zeros(n_kernels), np.ones(n_kernels))\n",
        "\n",
        "        # Initial weights\n",
        "        initial_weights = np.ones(n_kernels) / n_kernels\n",
        "\n",
        "        # Solve the optimization problem\n",
        "        try:\n",
        "            res = minimize(objective, initial_weights, method='SLSQP',\n",
        "                          constraints=constraints, bounds=bounds,\n",
        "                          options={'maxiter': 100, 'disp': False})\n",
        "            self.kernel_weights = res.x\n",
        "        except:\n",
        "            # Fallback to equal weights\n",
        "            self.kernel_weights = np.ones(n_kernels) / n_kernels"
      ],
      "metadata": {
        "id": "7rndDVtSgcGy"
      },
      "execution_count": 46,
      "outputs": []
    },
    {
      "cell_type": "markdown",
      "source": [
        "# 16. NLMKL (p=2)\n"
      ],
      "metadata": {
        "id": "9mMZVLKdjzwk"
      }
    },
    {
      "cell_type": "code",
      "source": [
        "class NLMKLP2(BaseMKL):\n",
        "    def __init__(self, C=1.0, kernel_types=None, max_iter=10, degree=2):\n",
        "        super().__init__(C, kernel_types)\n",
        "        self.max_iter = max_iter\n",
        "        self.degree = degree  # Degree of polynomial combination\n",
        "\n",
        "    def _combine_kernels(self, kernel_matrices):\n",
        "        \"\"\"Polynomial combination of kernels with L2 norm\"\"\"\n",
        "        # First, combine using squared weights (L2 norm)\n",
        "        linear_combination = np.zeros_like(kernel_matrices[0])\n",
        "        for i, kernel in enumerate(kernel_matrices):\n",
        "            linear_combination += (self.kernel_weights[i]**2) * kernel\n",
        "\n",
        "        # Then, raise to power (polynomial combination)\n",
        "        return linear_combination ** self.degree\n",
        "\n",
        "    def _set_kernel_weights(self, kernel_matrices, y):\n",
        "        n_kernels = len(kernel_matrices)\n",
        "\n",
        "        # Use simple optimization for kernel weights with L2 constraint\n",
        "        def objective(weights):\n",
        "            # Square the weights for L2 norm effect\n",
        "            self.kernel_weights = weights\n",
        "            K_combined = self._combine_kernels(kernel_matrices)\n",
        "\n",
        "            try:\n",
        "                svm = SVC(C=self.C, kernel='precomputed')\n",
        "                svm.fit(K_combined, y)\n",
        "                y_pred = svm.predict(K_combined)\n",
        "                return -accuracy_score(y, y_pred)  # Maximize accuracy\n",
        "            except:\n",
        "                return float('inf')\n",
        "\n",
        "        # Constraints: L2 norm of weights equals 1\n",
        "        constraints = [{'type': 'eq', 'fun': lambda w: np.sum(w**2) - 1}]\n",
        "        bounds = Bounds(np.zeros(n_kernels), np.ones(n_kernels))\n",
        "\n",
        "        # Initial weights\n",
        "        initial_weights = np.ones(n_kernels) / np.sqrt(n_kernels)  # L2 norm = 1\n",
        "\n",
        "        # Solve the optimization problem\n",
        "        try:\n",
        "            res = minimize(objective, initial_weights, method='SLSQP',\n",
        "                          constraints=constraints, bounds=bounds,\n",
        "                          options={'maxiter': 100, 'disp': False})\n",
        "            self.kernel_weights = res.x\n",
        "        except:\n",
        "            # Fallback to equal weights with L2 norm = 1\n",
        "            self.kernel_weights = np.ones(n_kernels) / np.sqrt(n_kernels)"
      ],
      "metadata": {
        "id": "XIIs88uWghFW"
      },
      "execution_count": 47,
      "outputs": []
    },
    {
      "cell_type": "markdown",
      "source": [
        "# 17. LMKL (Softmax)\n"
      ],
      "metadata": {
        "id": "9booPKAxj1m4"
      }
    },
    {
      "cell_type": "code",
      "source": [
        "class LMKLSoftmax(BaseMKL):\n",
        "    def __init__(self, C=1.0, kernel_types=None, max_iter=5, eta=0.01):\n",
        "        super().__init__(C, kernel_types)\n",
        "        self.max_iter = max_iter\n",
        "        self.eta = eta  # Learning rate\n",
        "        self.gating_params = None\n",
        "\n",
        "    def _gating_function(self, x, params):\n",
        "        \"\"\"Compute softmax gating function for each kernel\"\"\"\n",
        "        n_kernels = len(self.kernel_types)\n",
        "\n",
        "        # Make sure x is a 1D array when computing gating function\n",
        "        if x.ndim > 1:\n",
        "            x = x.flatten()\n",
        "\n",
        "        n_features = len(x)\n",
        "\n",
        "        # Reshape params to n_kernels x (n_features+1) for easier handling\n",
        "        theta = params.reshape(n_kernels, n_features + 1)\n",
        "\n",
        "        # Compute linear combinations for each kernel\n",
        "        linear_combinations = np.zeros(n_kernels)\n",
        "        for k in range(n_kernels):\n",
        "            # Add bias term\n",
        "            linear_combinations[k] = theta[k, -1]\n",
        "            # Add feature terms\n",
        "            for j in range(n_features):\n",
        "                linear_combinations[k] += theta[k, j] * x[j]\n",
        "\n",
        "        # Apply softmax\n",
        "        exp_vals = np.exp(linear_combinations)\n",
        "        return exp_vals / np.sum(exp_vals)\n",
        "\n",
        "    def _compute_combined_kernel(self, X, X_train=None):\n",
        "        \"\"\"Compute combined kernel with data-dependent weights\"\"\"\n",
        "        if X_train is None:\n",
        "            X_train = X\n",
        "\n",
        "        n_samples_X = X.shape[0]\n",
        "        n_samples_train = X_train.shape[0]\n",
        "        n_kernels = len(self.kernel_types)\n",
        "\n",
        "        # Compute base kernel matrices\n",
        "        kernel_matrices = self._get_kernel_matrices(X, X_train)\n",
        "\n",
        "        # Initialize combined kernel\n",
        "        K_combined = np.zeros((n_samples_X, n_samples_train))\n",
        "\n",
        "        # For each test point, compute data-dependent kernel weights and apply\n",
        "        for i in range(n_samples_X):\n",
        "            weights = self._gating_function(X[i], self.gating_params)\n",
        "            for k in range(n_kernels):\n",
        "                K_combined[i, :] += weights[k] * kernel_matrices[k][i, :]\n",
        "\n",
        "        return K_combined\n",
        "\n",
        "    def _precomputed_kernel(self, X, Y=None):\n",
        "        \"\"\"Override to use data-dependent kernel combination\"\"\"\n",
        "        if Y is not None:\n",
        "            return self._compute_combined_kernel(Y, X)\n",
        "        else:\n",
        "            return self._compute_combined_kernel(X)\n",
        "\n",
        "    def _set_kernel_weights(self, kernel_matrices, y):\n",
        "        \"\"\"Initialize gating function parameters\"\"\"\n",
        "        n_kernels = len(kernel_matrices)\n",
        "        n_features = self.X_train.shape[1]\n",
        "\n",
        "        # Initialize parameters for gating function\n",
        "        # One weight per feature + bias term for each kernel\n",
        "        self.gating_params = np.random.randn(n_kernels * (n_features + 1)) * 0.01\n",
        "\n",
        "        # Optimize gating parameters using gradient descent\n",
        "        for _ in range(self.max_iter):\n",
        "            # 1. Train SVM with current gating function\n",
        "            try:\n",
        "                K_combined = self._compute_combined_kernel(self.X_train)\n",
        "                svm = SVC(C=self.C, kernel='precomputed')\n",
        "                svm.fit(K_combined, y)\n",
        "\n",
        "                # 2. Update gating parameters (simplified - in practice this would need\n",
        "                # gradients of SVM objective with respect to gating parameters)\n",
        "                delta = np.random.randn(n_kernels * (n_features + 1)) * self.eta\n",
        "                self.gating_params += delta\n",
        "            except Exception as e:\n",
        "                print(f\"Error in LMKL Softmax optimization: {str(e)}\")\n",
        "                break\n",
        "\n",
        "        # No fixed kernel weights, as they are data-dependent\n",
        "        self.kernel_weights = np.ones(n_kernels) / n_kernels"
      ],
      "metadata": {
        "id": "QcadO3amglsr"
      },
      "execution_count": 48,
      "outputs": []
    },
    {
      "cell_type": "markdown",
      "source": [
        "# 18. LMKL (Sigmoid)\n"
      ],
      "metadata": {
        "id": "uXvRH5--j3wC"
      }
    },
    {
      "cell_type": "code",
      "source": [
        "class LMKLSigmoid(BaseMKL):\n",
        "    def __init__(self, C=1.0, kernel_types=None, max_iter=5, eta=0.01):\n",
        "        super().__init__(C, kernel_types)\n",
        "        self.max_iter = max_iter\n",
        "        self.eta = eta  # Learning rate\n",
        "        self.gating_params = None\n",
        "\n",
        "    def _sigmoid(self, x):\n",
        "        \"\"\"Sigmoid function\"\"\"\n",
        "        return 1 / (1 + np.exp(-x))\n",
        "\n",
        "    def _gating_function(self, x, params):\n",
        "        \"\"\"Compute sigmoid gating function for each kernel\"\"\"\n",
        "        n_kernels = len(self.kernel_types)\n",
        "\n",
        "        # Make sure x is a 1D array when computing gating function\n",
        "        if x.ndim > 1:\n",
        "            x = x.flatten()\n",
        "\n",
        "        n_features = len(x)\n",
        "\n",
        "        # Reshape params to n_kernels x (n_features+1) for easier handling\n",
        "        theta = params.reshape(n_kernels, n_features + 1)\n",
        "\n",
        "        # Compute sigmoid values for each kernel\n",
        "        gating_values = np.zeros(n_kernels)\n",
        "        for k in range(n_kernels):\n",
        "            # Add bias term\n",
        "            linear_comb = theta[k, -1]\n",
        "            # Add feature terms\n",
        "            for j in range(n_features):\n",
        "                linear_comb += theta[k, j] * x[j]\n",
        "            gating_values[k] = self._sigmoid(linear_comb)\n",
        "\n",
        "        # Normalize to sum to 1\n",
        "        if np.sum(gating_values) > 0:\n",
        "            return gating_values / np.sum(gating_values)\n",
        "        else:\n",
        "            return np.ones(n_kernels) / n_kernels\n",
        "\n",
        "    def _compute_combined_kernel(self, X, X_train=None):\n",
        "        \"\"\"Compute combined kernel with data-dependent weights\"\"\"\n",
        "        if X_train is None:\n",
        "            X_train = X\n",
        "\n",
        "        n_samples_X = X.shape[0]\n",
        "        n_samples_train = X_train.shape[0]\n",
        "        n_kernels = len(self.kernel_types)\n",
        "\n",
        "        # Compute base kernel matrices\n",
        "        kernel_matrices = self._get_kernel_matrices(X, X_train)\n",
        "\n",
        "        # Initialize combined kernel\n",
        "        K_combined = np.zeros((n_samples_X, n_samples_train))\n",
        "\n",
        "        # For each test point, compute data-dependent kernel weights and apply\n",
        "        for i in range(n_samples_X):\n",
        "            weights = self._gating_function(X[i], self.gating_params)\n",
        "            for k in range(n_kernels):\n",
        "                K_combined[i, :] += weights[k] * kernel_matrices[k][i, :]\n",
        "\n",
        "        return K_combined\n",
        "\n",
        "    def _precomputed_kernel(self, X, Y=None):\n",
        "        \"\"\"Override to use data-dependent kernel combination\"\"\"\n",
        "        if Y is not None:\n",
        "            return self._compute_combined_kernel(Y, X)\n",
        "        else:\n",
        "            return self._compute_combined_kernel(X)\n",
        "\n",
        "    def _set_kernel_weights(self, kernel_matrices, y):\n",
        "        \"\"\"Initialize gating function parameters\"\"\"\n",
        "        n_kernels = len(kernel_matrices)\n",
        "\n",
        "        # Get the number of features from the shape of the first sample in X\n",
        "        X = self.X_train\n",
        "        n_features = X.shape[1]\n",
        "\n",
        "        # Initialize parameters for gating function\n",
        "        # One weight per feature + bias term for each kernel\n",
        "        self.gating_params = np.random.randn(n_kernels * (n_features + 1)) * 0.01\n",
        "\n",
        "        # Optimize gating parameters using gradient descent\n",
        "        for _ in range(self.max_iter):\n",
        "            # 1. Train SVM with current gating function\n",
        "            K_combined = self._compute_combined_kernel(X)\n",
        "            svm = SVC(C=self.C, kernel='precomputed')\n",
        "            svm.fit(K_combined, y)\n",
        "\n",
        "            # 2. Update gating parameters (simplified - in practice this would need\n",
        "            delta = np.random.randn(n_kernels * (n_features + 1)) * self.eta\n",
        "            self.gating_params += delta\n",
        "\n",
        "        # No fixed kernel weights, as they are data-dependent\n",
        "        self.kernel_weights = np.ones(n_kernels) / n_kernels"
      ],
      "metadata": {
        "id": "VL-IfSo1gsbq"
      },
      "execution_count": 49,
      "outputs": []
    },
    {
      "cell_type": "markdown",
      "source": [
        "# Test Function\n"
      ],
      "metadata": {
        "id": "CTVj_WaBj67b"
      }
    },
    {
      "cell_type": "code",
      "source": [
        "def test_mkl_algorithms(X, y, test_size=0.25, random_state=42):\n",
        "    # Split data into train and test sets\n",
        "    X_train, X_test, y_train, y_test = train_test_split(X, y, test_size=test_size, random_state=random_state)\n",
        "\n",
        "    # Scale features\n",
        "    scaler = StandardScaler()\n",
        "    X_train = scaler.fit_transform(X_train)\n",
        "    X_test = scaler.transform(X_test)\n",
        "\n",
        "    # Define kernel types to use\n",
        "    kernel_types = ['linear', 'rbf', 'poly']\n",
        "\n",
        "    # Create and test each MKL algorithm\n",
        "    algorithms = [\n",
        "        # Single-Kernel SVM\n",
        "        (\"SVM (best)\", SVMBest(C=1.0, kernel_types=kernel_types)),\n",
        "        (\"SVM (all)\", SVMAll(C=1.0, kernel_types=kernel_types)),\n",
        "\n",
        "        # Rule-Based MKL\n",
        "        (\"RBMKL (mean)\", RBMKLMean(C=1.0, kernel_types=kernel_types)),\n",
        "        (\"RBMKL (product)\", RBMKLProduct(C=1.0, kernel_types=kernel_types)),\n",
        "\n",
        "        # Alignment-Based MKL\n",
        "        (\"ABMKL (ratio)\", ABMKLRatio(C=1.0, kernel_types=kernel_types)),\n",
        "        (\"ABMKL (conic)\", ABMKLConic(C=1.0, kernel_types=kernel_types)),\n",
        "        (\"ABMKL (convex)\", ABMKLConvex(C=1.0, kernel_types=kernel_types)),\n",
        "\n",
        "        # Centered-Alignment-Based MKL\n",
        "        (\"CABMKL (linear)\", CABMKLLinear(C=1.0, kernel_types=kernel_types)),\n",
        "        (\"CABMKL (conic)\", CABMKLConic(C=1.0, kernel_types=kernel_types)),\n",
        "\n",
        "        # Structural Risk Optimizing MKL\n",
        "        (\"MKL\", MKL(C=1.0, kernel_types=kernel_types, max_iter=5)),\n",
        "        (\"SimpleMKL\", SimpleMKL(C=1.0, kernel_types=kernel_types, max_iter=5)),\n",
        "        (\"GMKL\", GMKL(C=1.0, kernel_types=kernel_types, max_iter=5)),\n",
        "\n",
        "        # Group Lasso-Based MKL\n",
        "        (\"GLMKL (p=1)\", GLMKLP1(C=1.0, kernel_types=kernel_types, max_iter=5)),\n",
        "        (\"GLMKL (p=2)\", GLMKLP2(C=1.0, kernel_types=kernel_types, max_iter=5)),\n",
        "\n",
        "        # Nonlinear MKL\n",
        "        (\"NLMKL (p=1)\", NLMKLP1(C=1.0, kernel_types=kernel_types, max_iter=5)),\n",
        "        (\"NLMKL (p=2)\", NLMKLP2(C=1.0, kernel_types=kernel_types, max_iter=5)),\n",
        "\n",
        "        # Localized MKL\n",
        "        (\"LMKL (softmax)\", LMKLSoftmax(C=1.0, kernel_types=kernel_types, max_iter=3)),\n",
        "        (\"LMKL (sigmoid)\", LMKLSigmoid(C=1.0, kernel_types=kernel_types, max_iter=3))\n",
        "    ]\n",
        "\n",
        "    results = []\n",
        "\n",
        "    for name, algorithm in algorithms:\n",
        "        try:\n",
        "            start_time = time.time()\n",
        "            algorithm.fit(X_train, y_train)\n",
        "            training_time = time.time() - start_time\n",
        "\n",
        "            # Test on training data\n",
        "            y_pred_train = algorithm.predict(X_train)\n",
        "            train_acc = accuracy_score(y_train, y_pred_train)\n",
        "\n",
        "            # Test on test data\n",
        "            y_pred_test = algorithm.predict(X_test)\n",
        "            test_acc = accuracy_score(y_test, y_pred_test)\n",
        "\n",
        "            # Get kernel weights if available\n",
        "            if hasattr(algorithm, 'kernel_weights') and algorithm.kernel_weights is not None:\n",
        "                weights = algorithm.kernel_weights\n",
        "            else:\n",
        "                weights = None\n",
        "\n",
        "            results.append({\n",
        "                'Algorithm': name,\n",
        "                'Train Accuracy': train_acc,\n",
        "                'Test Accuracy': test_acc,\n",
        "                'Training Time': training_time,\n",
        "                'Kernel Weights': weights\n",
        "            })\n",
        "\n",
        "        except Exception as e:\n",
        "\n",
        "            print(f\"Error with {name}: {str(e)}\")\n",
        "            results.append({\n",
        "                'Algorithm': name,\n",
        "                'Train Accuracy': float('nan'),\n",
        "                'Test Accuracy': float('nan'),\n",
        "                'Training Time': float('nan'),\n",
        "                'Kernel Weights': None\n",
        "            })\n",
        "\n",
        "    return results"
      ],
      "metadata": {
        "id": "E-zF6ugQuE51"
      },
      "execution_count": 50,
      "outputs": []
    },
    {
      "cell_type": "code",
      "source": [
        "\n",
        "data = load_breast_cancer()\n",
        "X, y = data.data, data.target\n",
        "\n",
        "print(f\"Dataset shape: {X.shape}\")\n",
        "print(f\"Number of features: {X.shape[1]}\")\n",
        "print(f\"Number of classes: {len(np.unique(y))}\")\n",
        "\n",
        "print(\"\\nTesting MKL algorithms...\")\n",
        "results = test_mkl_algorithms(X, y)\n",
        "\n",
        "# Print results as a table\n",
        "print(\"\\nResults:\")\n",
        "print(\"-\" * 80)\n",
        "print(f\"{'Algorithm':<25} {'Train Acc':<12} {'Test Acc':<12} {'Time (s)':<12}\")\n",
        "print(\"-\" * 80)\n",
        "\n",
        "for result in results:\n",
        "    name = result['Algorithm']\n",
        "    train_acc = result['Train Accuracy']\n",
        "    test_acc = result['Test Accuracy']\n",
        "    train_time = result['Training Time']\n",
        "\n",
        "    print(f\"{name:<25} {train_acc:.4f}      {test_acc:.4f}      {train_time:.4f}\")"
      ],
      "metadata": {
        "colab": {
          "base_uri": "https://localhost:8080/"
        },
        "id": "LzVmeSS8fVK3",
        "outputId": "12b02f1d-b431-4f88-e30e-7075c4cd2743"
      },
      "execution_count": 51,
      "outputs": [
        {
          "output_type": "stream",
          "name": "stdout",
          "text": [
            "Dataset shape: (569, 30)\n",
            "Number of features: 30\n",
            "Number of classes: 2\n",
            "\n",
            "Testing MKL algorithms...\n",
            "\n",
            "Results:\n",
            "--------------------------------------------------------------------------------\n",
            "Algorithm                 Train Acc    Test Acc     Time (s)    \n",
            "--------------------------------------------------------------------------------\n",
            "SVM (best)                0.9930      0.9720      0.0628\n",
            "SVM (all)                 0.9906      0.9790      0.0171\n",
            "RBMKL (mean)              0.9906      0.9790      0.0166\n",
            "RBMKL (product)           0.6315      0.8601      0.0188\n",
            "ABMKL (ratio)             0.9930      0.9790      0.0567\n",
            "ABMKL (conic)             0.9883      0.9720      0.0326\n",
            "ABMKL (convex)            0.9859      0.9860      0.0271\n",
            "CABMKL (linear)           0.9906      0.9790      0.2983\n",
            "CABMKL (conic)            0.9859      0.9860      0.1575\n",
            "MKL                       0.9906      0.9790      2.9576\n",
            "SimpleMKL                 0.9906      0.9790      0.1480\n",
            "GMKL                      0.9906      0.9790      0.1242\n",
            "GLMKL (p=1)               0.9906      0.9790      0.0649\n",
            "GLMKL (p=2)               0.9906      0.9790      0.5408\n",
            "NLMKL (p=1)               1.0000      0.9510      0.0468\n",
            "NLMKL (p=2)               1.0000      0.9510      0.0531\n",
            "LMKL (softmax)            0.9930      0.9790      0.2379\n",
            "LMKL (sigmoid)            0.9906      0.9790      0.2038\n"
          ]
        }
      ]
    },
    {
      "cell_type": "markdown",
      "source": [
        "# Plot accuracy comparison\n"
      ],
      "metadata": {
        "id": "MqKjdhDqkYKJ"
      }
    },
    {
      "cell_type": "code",
      "source": [
        "plt.figure(figsize=(12, 6))\n",
        "x = np.arange(len(results))\n",
        "width = 0.35\n",
        "\n",
        "train_accs = [r['Train Accuracy'] for r in results]\n",
        "test_accs = [r['Test Accuracy'] for r in results]\n",
        "\n",
        "plt.bar(x - width/2, train_accs, width, label='Train Accuracy')\n",
        "plt.bar(x + width/2, test_accs, width, label='Test Accuracy')\n",
        "\n",
        "plt.xlabel('Algorithm')\n",
        "plt.ylabel('Accuracy')\n",
        "plt.title('Train and Test Accuracy Comparison')\n",
        "plt.xticks(x, [r['Algorithm'] for r in results], rotation=45, ha='right')\n",
        "plt.legend()\n",
        "plt.tight_layout()\n",
        "plt.grid(axis='y', linestyle='--', alpha=0.7)\n",
        "\n",
        "plt.show()"
      ],
      "metadata": {
        "colab": {
          "base_uri": "https://localhost:8080/",
          "height": 607
        },
        "id": "r7kRCXRjhBYg",
        "outputId": "86443957-f4fc-4de5-8046-b9b5ca09f34c"
      },
      "execution_count": 52,
      "outputs": [
        {
          "output_type": "display_data",
          "data": {
            "text/plain": [
              "<Figure size 1200x600 with 1 Axes>"
            ],
            "image/png": "[encoded data removed]"
          },
          "metadata": {}
        }
      ]
    },
    {
      "cell_type": "markdown",
      "source": [
        "# Visualize kernel weights\n"
      ],
      "metadata": {
        "id": "xYN7gvMwkV-8"
      }
    },
    {
      "cell_type": "code",
      "source": [
        "plt.figure(figsize=(12, 8))\n",
        "bar_width = 0.8 / 3\n",
        "kernel_types = ['linear', 'rbf', 'poly']\n",
        "colors = ['#1f77b4', '#ff7f0e', '#2ca02c']\n",
        "\n",
        "valid_results = [r for r in results if r['Kernel Weights'] is not None]\n",
        "\n",
        "for i, result in enumerate(valid_results):\n",
        "    weights = result['Kernel Weights']\n",
        "    if weights is not None and len(weights) == 3:\n",
        "        x = np.arange(len(valid_results))\n",
        "        for j in range(3):\n",
        "            plt.bar(x[i] + j*bar_width - bar_width, weights[j], bar_width,\n",
        "                    label=kernel_types[j] if i == 0 else \"\", color=colors[j])\n",
        "\n",
        "plt.xlabel('Algorithm')\n",
        "plt.ylabel('Kernel Weight')\n",
        "plt.title('Kernel Weights for Different MKL Algorithms')\n",
        "plt.xticks(np.arange(len(valid_results)), [r['Algorithm'] for r in valid_results], rotation=45, ha='right')\n",
        "plt.legend(loc='upper center', bbox_to_anchor=(0.5, -0.15), ncol=3)\n",
        "plt.tight_layout()\n",
        "plt.grid(axis='y', linestyle='--', alpha=0.7)"
      ],
      "metadata": {
        "colab": {
          "base_uri": "https://localhost:8080/",
          "height": 808
        },
        "id": "mMOzSFhkhD1R",
        "outputId": "508c95f8-3e18-44aa-ae5d-2da2f8aa4a76"
      },
      "execution_count": 53,
      "outputs": [
        {
          "output_type": "display_data",
          "data": {
            "text/plain": [
              "<Figure size 1200x800 with 1 Axes>"
            ],
            "image/png": "[encoded data removed]"
          },
          "metadata": {}
        }
      ]
    }
  ]
}